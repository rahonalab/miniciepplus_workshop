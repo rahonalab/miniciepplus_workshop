{
 "cells": [
  {
   "cell_type": "markdown",
   "id": "7c7dd8f1-11a2-4602-8c88-4ef7b1b640af",
   "metadata": {
    "slideshow": {
     "slide_type": "slide"
    }
   },
   "source": [
    "### Luigi Talamo  \n",
    "\n",
    "Language Science and Technology\n",
    "\n",
    "Saarland University (Germany)\n",
    "\n",
    "luigi.talamo@uni-saarland.de\n",
    "\n",
    "Code available from https://github.com/rahonalab/miniciepplus_workshop\n",
    "\n",
    "Check also these script: https://github.com/rahonalab/doing_stuff_with_ciepplus which are used for actual papers !"
   ]
  },
  {
   "cell_type": "markdown",
   "id": "ec0cb636",
   "metadata": {
    "slideshow": {
     "slide_type": "slide"
    }
   },
   "source": [
    "# Experimenting with miniciep+\n",
    "\n",
    "Welcome to this interactive Jupyter notebook! I am Luigi, your teacher for today! \n",
    "\n",
    "Now that you know the story of miniciep+, let's start writing some code to interact with this wonderful parallel corpus."
   ]
  },
  {
   "cell_type": "markdown",
   "id": "8587118a-c8e5-41ac-85e5-f6421f8c7c97",
   "metadata": {
    "slideshow": {
     "slide_type": "slide"
    }
   },
   "source": [
    "## Python libraries for working with the CoNNL-U format\n",
    "Since we are working with a collection of CoNNL-U files, we will use two Python libraries:\n",
    "\n",
    "* conllu: https://pypi.org/project/conllu/\n",
    "* pyconll: https://pyconll.readthedocs.io/en/stable/\n",
    "\n",
    "Please install them using your packet manager. For instance:\n",
    "\n",
    "`pip3 install conllu|pyconll`\n",
    "\n",
    "or\n",
    "\n",
    "`conda install conllu|pyconll`\n",
    "\n",
    "Both libraries do more or less the same thing i.e., handling these intimidating CoNNL-U files for you by providing methods and functions to explore them easily and focus on your research. As we will see in this tutorial, each of the two libraries is sometimes better suited to a specific task."
   ]
  },
  {
   "cell_type": "markdown",
   "id": "9d73954b",
   "metadata": {
    "slideshow": {
     "slide_type": "slide"
    }
   },
   "source": [
    "## First steps\n",
    "Let's start with pyconll.\n",
    "First, import the pyconll library:"
   ]
  },
  {
   "cell_type": "code",
   "execution_count": 1,
   "id": "44712efb-570a-4756-bb76-74899ac22685",
   "metadata": {
    "slideshow": {
     "slide_type": "slide"
    }
   },
   "outputs": [],
   "source": [
    "import pyconll"
   ]
  },
  {
   "cell_type": "markdown",
   "id": "4d51b9f5",
   "metadata": {
    "slideshow": {
     "slide_type": "slide"
    }
   },
   "source": [
    "then, you can load a conllufile with the ``pyconll.load_from_file`` function. Let's list files with the English version of the Nome della Rosa:"
   ]
  },
  {
   "cell_type": "code",
   "execution_count": 2,
   "id": "7d6b52b1-eaba-42e7-88f0-62022c348a79",
   "metadata": {
    "slideshow": {
     "slide_type": "slide"
    }
   },
   "outputs": [],
   "source": [
    "en_nomerosa = pyconll.load_from_file(\"conllu/en_nomerosa.conllu\")\n"
   ]
  },
  {
   "cell_type": "markdown",
   "id": "baf6d06b",
   "metadata": {
    "slideshow": {
     "slide_type": "slide"
    }
   },
   "source": [
    "## Walk through sentences and tokens of a CoNNL-U file\n",
    "Each pyconll object like our ``en_nomerosa`` is a list of sentences. In turn, each sentence is a list of tokens.\n",
    "There are basically two ways of exploring and collecting data from a sentence:\n",
    "* a linear walk: we walk through the sentence following the linear ordering of the tokens (i.e., a flat list of tokens);\n",
    "* a tree walk, we traverse the sentence using the tree structure described by the dependency relation (i.e. a nested tree structure of tokens).\n",
    "\n",
    "The method provided by the ``pyconll`` library allows for a linear walk, for the hierarchical walk we will use the `conll` library.\n",
    "\n",
    "### Linear walk\n",
    "Let's start with the linear walk, printing all tokens from the file:"
   ]
  },
  {
   "cell_type": "code",
   "execution_count": 18,
   "id": "e790b332-5e4f-451a-abba-85d6f1ceccc8",
   "metadata": {
    "scrolled": true
   },
   "outputs": [],
   "source": [
    "for sentence in en_nomerosa:\n",
    "    for token in sentence:\n",
    "        # Print tokens\n",
    "        print(token)"
   ]
  },
  {
   "cell_type": "markdown",
   "id": "5b59c2de-3575-4ec3-8c1f-186192c0196d",
   "metadata": {},
   "source": [
    "Not very useful, isn't it? That's because we have only printed the object.\n",
    "The `pyconll` library stores each of the UD annotation fields as an attribute of the object, e.g. `token.form` contains the graphemic form of the token. \n",
    "These fields are: ``id``, ``form``, ``lemma``, ``upos``, ``xpos``, ``feats``, ``head``, ``deprel``, ``deps``, ``misc``. \n",
    "Remember the fields we saw in the slides? We can loop over the CoNNL-U file and print them. For instance, let's print the four fields we have seen before, plus the ID (position number) and the graphemic form of the token:"
   ]
  },
  {
   "cell_type": "code",
   "execution_count": 20,
   "id": "64859646-1029-484c-bddf-29d4cf09ea97",
   "metadata": {
    "scrolled": true
   },
   "outputs": [
    {
     "name": "stdout",
     "output_type": "stream",
     "text": [
      "Token no. 1 has form Umberto UPOS: PROPN, FEATS: {}, DEPREL:obl and its head is token 19\n",
      "Token no. 2 has form Eco UPOS: PROPN, FEATS: {}, DEPREL:flat:name and its head is token 1\n",
      "Token no. 3 has form - UPOS: PUNCT, FEATS: {}, DEPREL:punct and its head is token 1\n",
      "Token no. 4 has form Il UPOS: DET, FEATS: {'Definite': {'Def'}, 'Gender': {'Masc'}, 'Number': {'Sing'}, 'PronType': {'Art'}}, DEPREL:det and its head is token 5\n",
      "Token no. 5 has form nome UPOS: NOUN, FEATS: {'Gender': {'Masc'}, 'Number': {'Sing'}}, DEPREL:nsubj:pass and its head is token 19\n",
      "Token no. 6-7 has form della UPOS: None, FEATS: {}, DEPREL:None and its head is token None\n",
      "Token no. 6 has form di UPOS: ADP, FEATS: {}, DEPREL:case and its head is token 8\n",
      "Token no. 7 has form la UPOS: DET, FEATS: {'Definite': {'Def'}, 'Gender': {'Fem'}, 'Number': {'Sing'}, 'PronType': {'Art'}}, DEPREL:det and its head is token 8\n",
      "Token no. 8 has form rosa UPOS: NOUN, FEATS: {'Gender': {'Fem'}, 'Number': {'Sing'}}, DEPREL:nmod and its head is token 5\n",
      "Token no. 9 has form Naturalmente UPOS: ADV, FEATS: {}, DEPREL:advmod and its head is token 19\n",
      "Token no. 10 has form , UPOS: PUNCT, FEATS: {}, DEPREL:punct and its head is token 19\n",
      "Token no. 11 has form un UPOS: DET, FEATS: {'Definite': {'Ind'}, 'Gender': {'Masc'}, 'Number': {'Sing'}, 'PronType': {'Art'}}, DEPREL:det and its head is token 12\n",
      "Token no. 12 has form manoscritto UPOS: NOUN, FEATS: {'Gender': {'Masc'}, 'Number': {'Sing'}}, DEPREL:nsubj:pass and its head is token 19\n",
      "Token no. 13 has form Il UPOS: DET, FEATS: {'Definite': {'Def'}, 'Gender': {'Masc'}, 'Number': {'Sing'}, 'PronType': {'Art'}}, DEPREL:det and its head is token 14\n",
      "Token no. 14 has form 16 UPOS: NUM, FEATS: {'NumType': {'Card'}}, DEPREL:nmod and its head is token 12\n",
      "Token no. 15 has form agosto UPOS: NOUN, FEATS: {'Gender': {'Masc'}, 'Number': {'Sing'}}, DEPREL:flat and its head is token 14\n",
      "Token no. 16 has form 1968 UPOS: NUM, FEATS: {'NumType': {'Card'}}, DEPREL:flat and its head is token 14\n",
      "Token no. 17 has form mi UPOS: PRON, FEATS: {'Clitic': {'Yes'}, 'Number': {'Sing'}, 'Person': {'1'}, 'PronType': {'Prs'}}, DEPREL:iobj and its head is token 19\n",
      "Token no. 18 has form fu UPOS: AUX, FEATS: {'Mood': {'Ind'}, 'Number': {'Sing'}, 'Person': {'3'}, 'Tense': {'Past'}, 'VerbForm': {'Fin'}}, DEPREL:aux:pass and its head is token 19\n",
      "Token no. 19 has form messo UPOS: VERB, FEATS: {'Gender': {'Masc'}, 'Number': {'Sing'}, 'Tense': {'Past'}, 'VerbForm': {'Part'}}, DEPREL:root and its head is token 0\n",
      "Token no. 20 has form tra UPOS: ADP, FEATS: {}, DEPREL:case and its head is token 22\n",
      "Token no. 21 has form le UPOS: DET, FEATS: {'Definite': {'Def'}, 'Gender': {'Fem'}, 'Number': {'Plur'}, 'PronType': {'Art'}}, DEPREL:det and its head is token 22\n",
      "Token no. 22 has form mani UPOS: NOUN, FEATS: {'Gender': {'Fem'}, 'Number': {'Plur'}}, DEPREL:obl and its head is token 19\n",
      "Token no. 23 has form un UPOS: DET, FEATS: {'Definite': {'Ind'}, 'Gender': {'Masc'}, 'Number': {'Sing'}, 'PronType': {'Art'}}, DEPREL:det and its head is token 24\n",
      "Token no. 24 has form libro UPOS: NOUN, FEATS: {'Gender': {'Masc'}, 'Number': {'Sing'}}, DEPREL:nsubj:pass and its head is token 19\n",
      "Token no. 25 has form dovuto UPOS: VERB, FEATS: {'Gender': {'Masc'}, 'Number': {'Sing'}, 'Tense': {'Past'}, 'VerbForm': {'Part'}}, DEPREL:acl and its head is token 24\n",
      "Token no. 26-27 has form alla UPOS: None, FEATS: {}, DEPREL:None and its head is token None\n",
      "Token no. 26 has form a UPOS: ADP, FEATS: {}, DEPREL:case and its head is token 28\n",
      "Token no. 27 has form la UPOS: DET, FEATS: {'Definite': {'Def'}, 'Gender': {'Fem'}, 'Number': {'Sing'}, 'PronType': {'Art'}}, DEPREL:det and its head is token 28\n",
      "Token no. 28 has form penna UPOS: NOUN, FEATS: {'Gender': {'Fem'}, 'Number': {'Sing'}}, DEPREL:obl and its head is token 25\n",
      "Token no. 29 has form di UPOS: ADP, FEATS: {}, DEPREL:case and its head is token 31\n",
      "Token no. 30 has form tale UPOS: DET, FEATS: {'Number': {'Sing'}, 'PronType': {'Dem'}}, DEPREL:det and its head is token 31\n",
      "Token no. 31 has form abate UPOS: NOUN, FEATS: {'Gender': {'Masc'}, 'Number': {'Sing'}}, DEPREL:nmod and its head is token 28\n",
      "Token no. 32 has form Vallet UPOS: PROPN, FEATS: {}, DEPREL:nmod and its head is token 31\n",
      "Token no. 33 has form , UPOS: PUNCT, FEATS: {}, DEPREL:punct and its head is token 31\n",
      "Token no. 34 has form Le UPOS: DET, FEATS: {'Definite': {'Def'}, 'Gender': {'Fem'}, 'Number': {'Plur'}, 'PronType': {'Art'}}, DEPREL:det and its head is token 35\n",
      "Token no. 35 has form manuscript UPOS: X, FEATS: {'Foreign': {'Yes'}}, DEPREL:appos and its head is token 31\n",
      "Token no. 36 has form de UPOS: ADP, FEATS: {}, DEPREL:case and its head is token 38\n",
      "Token no. 37 has form Dom UPOS: PROPN, FEATS: {}, DEPREL:nmod and its head is token 35\n",
      "Token no. 38 has form Adson UPOS: PROPN, FEATS: {}, DEPREL:flat:foreign and its head is token 35\n",
      "Token no. 39 has form de UPOS: ADP, FEATS: {}, DEPREL:case and its head is token 40\n",
      "Token no. 40 has form Melk UPOS: PROPN, FEATS: {}, DEPREL:nmod and its head is token 35\n",
      "Token no. 41 has form , UPOS: PUNCT, FEATS: {}, DEPREL:punct and its head is token 35\n",
      "Token no. 42 has form traduit UPOS: X, FEATS: {'Foreign': {'Yes'}}, DEPREL:flat:foreign and its head is token 35\n",
      "Token no. 43 has form en UPOS: X, FEATS: {'Foreign': {'Yes'}}, DEPREL:flat:foreign and its head is token 42\n",
      "Token no. 44 has form français UPOS: X, FEATS: {'Foreign': {'Yes'}}, DEPREL:flat:foreign and its head is token 42\n",
      "Token no. 45 has form d' UPOS: ADP, FEATS: {}, DEPREL:case and its head is token 46\n",
      "Token no. 46 has form après UPOS: X, FEATS: {'Foreign': {'Yes'}}, DEPREL:flat:foreign and its head is token 42\n",
      "Token no. 47 has form l' UPOS: X, FEATS: {'Foreign': {'Yes'}}, DEPREL:flat:foreign and its head is token 46\n",
      "Token no. 48 has form édition UPOS: X, FEATS: {'Foreign': {'Yes'}}, DEPREL:flat:foreign and its head is token 42\n",
      "Token no. 49 has form de UPOS: ADP, FEATS: {}, DEPREL:case and its head is token 50\n",
      "Token no. 50 has form Dom UPOS: PROPN, FEATS: {}, DEPREL:nmod and its head is token 48\n",
      "Token no. 51 has form J. UPOS: PROPN, FEATS: {}, DEPREL:flat:name and its head is token 50\n",
      "Token no. 52 has form Mabillon UPOS: PROPN, FEATS: {}, DEPREL:flat:name and its head is token 50\n",
      "Token no. 53 has form ( UPOS: PUNCT, FEATS: {}, DEPREL:punct and its head is token 54\n",
      "Token no. 54 has form Aux UPOS: PROPN, FEATS: {}, DEPREL:appos and its head is token 50\n",
      "Token no. 55 has form Presses UPOS: PROPN, FEATS: {}, DEPREL:flat:name and its head is token 54\n",
      "Token no. 56 has form de UPOS: ADP, FEATS: {}, DEPREL:case and its head is token 58\n",
      "Token no. 57 has form l' UPOS: DET, FEATS: {'Definite': {'Def'}, 'Number': {'Sing'}, 'PronType': {'Art'}}, DEPREL:det and its head is token 58\n",
      "Token no. 58 has form Abbaye UPOS: PROPN, FEATS: {}, DEPREL:nmod and its head is token 54\n",
      "Token no. 59 has form de UPOS: ADP, FEATS: {}, DEPREL:case and its head is token 61\n",
      "Token no. 60 has form la UPOS: DET, FEATS: {'Definite': {'Def'}, 'Gender': {'Fem'}, 'Number': {'Sing'}, 'PronType': {'Art'}}, DEPREL:det and its head is token 61\n",
      "Token no. 61 has form Source UPOS: PROPN, FEATS: {}, DEPREL:nmod and its head is token 58\n",
      "Token no. 62 has form , UPOS: PUNCT, FEATS: {}, DEPREL:punct and its head is token 63\n",
      "Token no. 63 has form Paris UPOS: PROPN, FEATS: {}, DEPREL:nmod and its head is token 54\n",
      "Token no. 64 has form , UPOS: PUNCT, FEATS: {}, DEPREL:punct and its head is token 54\n",
      "Token no. 65 has form 1842 UPOS: NUM, FEATS: {'NumType': {'Card'}}, DEPREL:nummod and its head is token 63\n",
      "Token no. 66 has form ) UPOS: PUNCT, FEATS: {}, DEPREL:punct and its head is token 54\n",
      "Token no. 67 has form . UPOS: PUNCT, FEATS: {}, DEPREL:punct and its head is token 19\n",
      "Token no. 1 has form Il UPOS: DET, FEATS: {'Definite': {'Def'}, 'Gender': {'Masc'}, 'Number': {'Sing'}, 'PronType': {'Art'}}, DEPREL:det and its head is token 2\n",
      "Token no. 2 has form libro UPOS: NOUN, FEATS: {'Gender': {'Masc'}, 'Number': {'Sing'}}, DEPREL:nsubj and its head is token 12\n",
      "Token no. 3 has form , UPOS: PUNCT, FEATS: {}, DEPREL:punct and its head is token 2\n",
      "Token no. 4 has form corredato UPOS: VERB, FEATS: {'Gender': {'Masc'}, 'Number': {'Sing'}, 'Tense': {'Past'}, 'VerbForm': {'Part'}}, DEPREL:acl and its head is token 2\n",
      "Token no. 5 has form da UPOS: ADP, FEATS: {}, DEPREL:case and its head is token 6\n",
      "Token no. 6 has form indicazioni UPOS: NOUN, FEATS: {'Gender': {'Fem'}, 'Number': {'Plur'}}, DEPREL:obl:agent and its head is token 4\n",
      "Token no. 7 has form storiche UPOS: ADJ, FEATS: {'Gender': {'Fem'}, 'Number': {'Plur'}}, DEPREL:amod and its head is token 6\n",
      "Token no. 8 has form invero UPOS: ADV, FEATS: {}, DEPREL:advmod and its head is token 9\n",
      "Token no. 9 has form assai UPOS: ADV, FEATS: {}, DEPREL:advmod and its head is token 10\n",
      "Token no. 10 has form povere UPOS: ADJ, FEATS: {'Gender': {'Fem'}, 'Number': {'Plur'}}, DEPREL:amod and its head is token 6\n",
      "Token no. 11 has form , UPOS: PUNCT, FEATS: {}, DEPREL:punct and its head is token 2\n",
      "Token no. 12 has form asseriva UPOS: VERB, FEATS: {'Mood': {'Ind'}, 'Number': {'Sing'}, 'Person': {'3'}, 'Tense': {'Imp'}, 'VerbForm': {'Fin'}}, DEPREL:root and its head is token 0\n",
      "Token no. 13 has form di UPOS: ADP, FEATS: {}, DEPREL:mark and its head is token 14\n",
      "Token no. 14 has form riprodurre UPOS: VERB, FEATS: {'VerbForm': {'Inf'}}, DEPREL:xcomp and its head is token 12\n",
      "Token no. 15 has form fedelmente UPOS: ADV, FEATS: {}, DEPREL:advmod and its head is token 14\n",
      "Token no. 16 has form un UPOS: DET, FEATS: {'Definite': {'Ind'}, 'Gender': {'Masc'}, 'Number': {'Sing'}, 'PronType': {'Art'}}, DEPREL:det and its head is token 17\n",
      "Token no. 17 has form manoscritto UPOS: NOUN, FEATS: {'Gender': {'Masc'}, 'Number': {'Sing'}}, DEPREL:obj and its head is token 14\n",
      "Token no. 18-19 has form del UPOS: None, FEATS: {}, DEPREL:None and its head is token None\n",
      "Token no. 18 has form di UPOS: ADP, FEATS: {}, DEPREL:case and its head is token 21\n",
      "Token no. 19 has form il UPOS: DET, FEATS: {'Definite': {'Def'}, 'Gender': {'Masc'}, 'Number': {'Sing'}, 'PronType': {'Art'}}, DEPREL:det and its head is token 21\n",
      "Token no. 20 has form XIV UPOS: ADJ, FEATS: {'NumType': {'Ord'}, 'Number': {'Sing'}}, DEPREL:amod and its head is token 21\n",
      "Token no. 21 has form secolo UPOS: NOUN, FEATS: {'Gender': {'Masc'}, 'Number': {'Sing'}}, DEPREL:nmod and its head is token 17\n",
      "Token no. 22 has form , UPOS: PUNCT, FEATS: {}, DEPREL:punct and its head is token 17\n",
      "Token no. 23 has form a UPOS: ADP, FEATS: {}, DEPREL:case and its head is token 25\n",
      "Token no. 24 has form sua UPOS: DET, FEATS: {'Gender': {'Fem'}, 'Number': {'Sing'}, 'Poss': {'Yes'}, 'PronType': {'Prs'}}, DEPREL:det:poss and its head is token 25\n",
      "Token no. 25 has form volta UPOS: NOUN, FEATS: {'Gender': {'Fem'}, 'Number': {'Sing'}}, DEPREL:obl and its head is token 26\n",
      "Token no. 26 has form trovato UPOS: VERB, FEATS: {'Gender': {'Masc'}, 'Number': {'Sing'}, 'Tense': {'Past'}, 'VerbForm': {'Part'}}, DEPREL:acl and its head is token 17\n",
      "Token no. 27-28 has form nel UPOS: None, FEATS: {}, DEPREL:None and its head is token None\n",
      "Token no. 27 has form in UPOS: ADP, FEATS: {}, DEPREL:case and its head is token 29\n",
      "Token no. 28 has form il UPOS: DET, FEATS: {'Definite': {'Def'}, 'Gender': {'Masc'}, 'Number': {'Sing'}, 'PronType': {'Art'}}, DEPREL:det and its head is token 29\n",
      "Token no. 29 has form monastero UPOS: NOUN, FEATS: {'Gender': {'Masc'}, 'Number': {'Sing'}}, DEPREL:obl and its head is token 26\n",
      "Token no. 30 has form di UPOS: ADP, FEATS: {}, DEPREL:case and its head is token 31\n",
      "Token no. 31 has form Melk UPOS: PROPN, FEATS: {}, DEPREL:nmod and its head is token 29\n",
      "Token no. 32-33 has form dal UPOS: None, FEATS: {}, DEPREL:None and its head is token None\n",
      "Token no. 32 has form da UPOS: ADP, FEATS: {}, DEPREL:case and its head is token 35\n",
      "Token no. 33 has form il UPOS: DET, FEATS: {'Definite': {'Def'}, 'Gender': {'Masc'}, 'Number': {'Sing'}, 'PronType': {'Art'}}, DEPREL:det and its head is token 35\n",
      "Token no. 34 has form grande UPOS: ADJ, FEATS: {'Number': {'Sing'}}, DEPREL:amod and its head is token 35\n",
      "Token no. 35 has form erudito UPOS: NOUN, FEATS: {'Gender': {'Masc'}, 'Number': {'Sing'}}, DEPREL:obl:agent and its head is token 26\n",
      "Token no. 36 has form secentesco UPOS: ADJ, FEATS: {'Gender': {'Masc'}, 'Number': {'Sing'}}, DEPREL:amod and its head is token 35\n",
      "Token no. 37 has form , UPOS: PUNCT, FEATS: {}, DEPREL:punct and its head is token 35\n",
      "Token no. 38 has form a UPOS: ADP, FEATS: {}, DEPREL:case and its head is token 39\n",
      "Token no. 39 has form cui UPOS: PRON, FEATS: {'PronType': {'Rel'}}, DEPREL:obl and its head is token 42\n",
      "Token no. 40 has form tanto UPOS: ADV, FEATS: {}, DEPREL:advmod and its head is token 42\n",
      "Token no. 41 has form si UPOS: PRON, FEATS: {'Clitic': {'Yes'}, 'Person': {'3'}, 'PronType': {'Prs'}}, DEPREL:expl and its head is token 42\n",
      "Token no. 42 has form deve UPOS: VERB, FEATS: {'Mood': {'Ind'}, 'Number': {'Sing'}, 'Person': {'3'}, 'Tense': {'Pres'}, 'VerbForm': {'Fin'}}, DEPREL:acl:relcl and its head is token 35\n",
      "Token no. 43 has form per UPOS: ADP, FEATS: {}, DEPREL:case and its head is token 45\n",
      "Token no. 44 has form la UPOS: DET, FEATS: {'Definite': {'Def'}, 'Gender': {'Fem'}, 'Number': {'Sing'}, 'PronType': {'Art'}}, DEPREL:det and its head is token 45\n",
      "Token no. 45 has form storia UPOS: NOUN, FEATS: {'Gender': {'Fem'}, 'Number': {'Sing'}}, DEPREL:obl and its head is token 42\n",
      "Token no. 46-47 has form dell' UPOS: None, FEATS: {}, DEPREL:None and its head is token None\n",
      "Token no. 46 has form di UPOS: ADP, FEATS: {}, DEPREL:case and its head is token 48\n",
      "Token no. 47 has form l' UPOS: DET, FEATS: {'Definite': {'Def'}, 'Number': {'Sing'}, 'PronType': {'Art'}}, DEPREL:det and its head is token 48\n",
      "Token no. 48 has form ordine UPOS: NOUN, FEATS: {'Gender': {'Masc'}, 'Number': {'Sing'}}, DEPREL:nmod and its head is token 45\n",
      "Token no. 49 has form benedettino UPOS: ADJ, FEATS: {'Gender': {'Masc'}, 'Number': {'Sing'}}, DEPREL:amod and its head is token 48\n",
      "Token no. 50 has form . UPOS: PUNCT, FEATS: {}, DEPREL:punct and its head is token 12\n",
      "Token no. 1 has form La UPOS: DET, FEATS: {'Definite': {'Def'}, 'Gender': {'Fem'}, 'Number': {'Sing'}, 'PronType': {'Art'}}, DEPREL:det and its head is token 2\n",
      "Token no. 2 has form dotta UPOS: NOUN, FEATS: {'Gender': {'Fem'}, 'Number': {'Sing'}}, DEPREL:nsubj and its head is token 14\n",
      "Token no. 3 has form trouvaille UPOS: NOUN, FEATS: {'Gender': {'Fem'}}, DEPREL:compound and its head is token 2\n",
      "Token no. 4 has form ( UPOS: PUNCT, FEATS: {}, DEPREL:punct and its head is token 5\n",
      "Token no. 5 has form mia UPOS: DET, FEATS: {'Gender': {'Fem'}, 'Number': {'Sing'}, 'Poss': {'Yes'}, 'PronType': {'Prs'}}, DEPREL:det:poss and its head is token 2\n",
      "Token no. 6 has form , UPOS: PUNCT, FEATS: {}, DEPREL:punct and its head is token 5\n",
      "Token no. 7 has form terza UPOS: ADJ, FEATS: {'Gender': {'Fem'}, 'NumType': {'Ord'}, 'Number': {'Sing'}}, DEPREL:amod and its head is token 2\n",
      "Token no. 8 has form dunque UPOS: ADV, FEATS: {}, DEPREL:advmod and its head is token 7\n",
      "Token no. 9-10 has form nel UPOS: None, FEATS: {}, DEPREL:None and its head is token None\n",
      "Token no. 9 has form in UPOS: ADP, FEATS: {}, DEPREL:case and its head is token 11\n",
      "Token no. 10 has form il UPOS: DET, FEATS: {'Definite': {'Def'}, 'Gender': {'Masc'}, 'Number': {'Sing'}, 'PronType': {'Art'}}, DEPREL:det and its head is token 11\n",
      "Token no. 11 has form tempo UPOS: NOUN, FEATS: {'Gender': {'Masc'}, 'Number': {'Sing'}}, DEPREL:obl and its head is token 7\n",
      "Token no. 12 has form ) UPOS: PUNCT, FEATS: {}, DEPREL:punct and its head is token 7\n",
      "Token no. 13 has form mi UPOS: PRON, FEATS: {'Clitic': {'Yes'}, 'Number': {'Sing'}, 'Person': {'1'}, 'PronType': {'Prs'}}, DEPREL:iobj and its head is token 14\n",
      "Token no. 14 has form rallegrava UPOS: VERB, FEATS: {'Mood': {'Ind'}, 'Number': {'Sing'}, 'Person': {'3'}, 'Tense': {'Imp'}, 'VerbForm': {'Fin'}}, DEPREL:root and its head is token 0\n",
      "Token no. 15 has form mentre UPOS: SCONJ, FEATS: {}, DEPREL:mark and its head is token 17\n",
      "Token no. 16 has form mi UPOS: PRON, FEATS: {'Clitic': {'Yes'}, 'Number': {'Sing'}, 'Person': {'1'}, 'PronType': {'Prs'}}, DEPREL:expl and its head is token 17\n",
      "Token no. 17 has form trovavo UPOS: VERB, FEATS: {'Mood': {'Ind'}, 'Number': {'Sing'}, 'Person': {'1'}, 'Tense': {'Imp'}, 'VerbForm': {'Fin'}}, DEPREL:advcl and its head is token 14\n",
      "Token no. 18 has form a UPOS: ADP, FEATS: {}, DEPREL:case and its head is token 19\n",
      "Token no. 19 has form Praga UPOS: PROPN, FEATS: {}, DEPREL:obl and its head is token 17\n",
      "Token no. 20 has form in UPOS: ADP, FEATS: {}, DEPREL:case and its head is token 21\n",
      "Token no. 21 has form attesa UPOS: NOUN, FEATS: {'Gender': {'Fem'}, 'Number': {'Sing'}}, DEPREL:obl and its head is token 17\n",
      "Token no. 22 has form di UPOS: ADP, FEATS: {}, DEPREL:case and its head is token 24\n",
      "Token no. 23 has form una UPOS: DET, FEATS: {'Definite': {'Ind'}, 'Gender': {'Fem'}, 'Number': {'Sing'}, 'PronType': {'Art'}}, DEPREL:det and its head is token 24\n",
      "Token no. 24 has form persona UPOS: NOUN, FEATS: {'Gender': {'Fem'}, 'Number': {'Sing'}}, DEPREL:nmod and its head is token 21\n",
      "Token no. 25 has form cara UPOS: ADJ, FEATS: {'Gender': {'Fem'}, 'Number': {'Sing'}}, DEPREL:amod and its head is token 24\n",
      "Token no. 26 has form . UPOS: PUNCT, FEATS: {}, DEPREL:punct and its head is token 14\n",
      "Token no. 1-2 has form Sei UPOS: None, FEATS: {}, DEPREL:None and its head is token None\n",
      "Token no. 1 has form Se UPOS: SCONJ, FEATS: {}, DEPREL:mark and its head is token 8\n",
      "Token no. 2 has form i UPOS: DET, FEATS: {'Definite': {'Def'}, 'Gender': {'Masc'}, 'Number': {'Plur'}, 'PronType': {'Art'}}, DEPREL:det and its head is token 3\n",
      "Token no. 3 has form giorni UPOS: NOUN, FEATS: {'Gender': {'Masc'}, 'Number': {'Plur'}}, DEPREL:obl and its head is token 8\n",
      "Token no. 4 has form dopo UPOS: ADP, FEATS: {}, DEPREL:case and its head is token 6\n",
      "Token no. 5 has form le UPOS: DET, FEATS: {'Definite': {'Def'}, 'Gender': {'Fem'}, 'Number': {'Plur'}, 'PronType': {'Art'}}, DEPREL:det and its head is token 6\n",
      "Token no. 6 has form truppe UPOS: NOUN, FEATS: {'Gender': {'Fem'}, 'Number': {'Plur'}}, DEPREL:nsubj and its head is token 8\n",
      "Token no. 7 has form sovietiche UPOS: ADJ, FEATS: {'Gender': {'Fem'}, 'Number': {'Plur'}}, DEPREL:amod and its head is token 6\n",
      "Token no. 8 has form invadevano UPOS: VERB, FEATS: {'Mood': {'Ind'}, 'Number': {'Plur'}, 'Person': {'3'}, 'Tense': {'Imp'}, 'VerbForm': {'Fin'}}, DEPREL:root and its head is token 0\n",
      "Token no. 9 has form la UPOS: DET, FEATS: {'Definite': {'Def'}, 'Gender': {'Fem'}, 'Number': {'Sing'}, 'PronType': {'Art'}}, DEPREL:det and its head is token 11\n",
      "Token no. 10 has form sventurata UPOS: ADJ, FEATS: {'Gender': {'Fem'}, 'Number': {'Sing'}}, DEPREL:amod and its head is token 11\n",
      "Token no. 11 has form città UPOS: NOUN, FEATS: {'Gender': {'Fem'}}, DEPREL:obj and its head is token 8\n",
      "Token no. 12 has form . UPOS: PUNCT, FEATS: {}, DEPREL:punct and its head is token 8\n",
      "Token no. 1 has form Riuscivo UPOS: VERB, FEATS: {'Mood': {'Ind'}, 'Number': {'Sing'}, 'Person': {'1'}, 'Tense': {'Imp'}, 'VerbForm': {'Fin'}}, DEPREL:root and its head is token 0\n",
      "Token no. 2 has form fortunosamente UPOS: ADV, FEATS: {}, DEPREL:advmod and its head is token 1\n",
      "Token no. 3 has form a UPOS: ADP, FEATS: {}, DEPREL:mark and its head is token 4\n",
      "Token no. 4 has form raggiungere UPOS: VERB, FEATS: {'VerbForm': {'Inf'}}, DEPREL:xcomp and its head is token 1\n",
      "Token no. 5 has form la UPOS: DET, FEATS: {'Definite': {'Def'}, 'Gender': {'Fem'}, 'Number': {'Sing'}, 'PronType': {'Art'}}, DEPREL:det and its head is token 6\n",
      "Token no. 6 has form frontiera UPOS: NOUN, FEATS: {'Gender': {'Fem'}, 'Number': {'Sing'}}, DEPREL:obj and its head is token 4\n",
      "Token no. 7 has form austriaca UPOS: ADJ, FEATS: {'Gender': {'Fem'}, 'Number': {'Sing'}}, DEPREL:amod and its head is token 6\n",
      "Token no. 8 has form a UPOS: ADP, FEATS: {}, DEPREL:case and its head is token 9\n",
      "Token no. 9 has form Linz UPOS: PROPN, FEATS: {}, DEPREL:obl and its head is token 4\n",
      "Token no. 10 has form , UPOS: PUNCT, FEATS: {}, DEPREL:punct and its head is token 14\n",
      "Token no. 11 has form di UPOS: ADP, FEATS: {}, DEPREL:case and its head is token 12\n",
      "Token no. 12 has form lì UPOS: ADV, FEATS: {}, DEPREL:advmod and its head is token 14\n",
      "Token no. 13 has form mi UPOS: PRON, FEATS: {'Clitic': {'Yes'}, 'Number': {'Sing'}, 'Person': {'1'}, 'PronType': {'Prs'}}, DEPREL:obj and its head is token 14\n",
      "Token no. 14 has form portavo UPOS: VERB, FEATS: {'Mood': {'Ind'}, 'Number': {'Sing'}, 'Person': {'1'}, 'Tense': {'Imp'}, 'VerbForm': {'Fin'}}, DEPREL:conj and its head is token 1\n",
      "Token no. 15 has form a UPOS: ADP, FEATS: {}, DEPREL:case and its head is token 16\n",
      "Token no. 16 has form Vienna UPOS: PROPN, FEATS: {}, DEPREL:obl and its head is token 14\n",
      "Token no. 17 has form dove UPOS: ADV, FEATS: {}, DEPREL:advmod and its head is token 19\n",
      "Token no. 18 has form mi UPOS: PRON, FEATS: {'Clitic': {'Yes'}, 'Number': {'Sing'}, 'Person': {'1'}, 'PronType': {'Prs'}}, DEPREL:obj and its head is token 19\n",
      "Token no. 19 has form ricongiungevo UPOS: VERB, FEATS: {'Mood': {'Ind'}, 'Number': {'Sing'}, 'Person': {'1'}, 'Tense': {'Imp'}, 'VerbForm': {'Fin'}}, DEPREL:acl:relcl and its head is token 16\n",
      "Token no. 20 has form con UPOS: ADP, FEATS: {}, DEPREL:case and its head is token 22\n",
      "Token no. 21 has form la UPOS: DET, FEATS: {'Definite': {'Def'}, 'Gender': {'Fem'}, 'Number': {'Sing'}, 'PronType': {'Art'}}, DEPREL:det and its head is token 22\n",
      "Token no. 22 has form persona UPOS: NOUN, FEATS: {'Gender': {'Fem'}, 'Number': {'Sing'}}, DEPREL:obl and its head is token 19\n",
      "Token no. 23 has form attesa UPOS: ADJ, FEATS: {'Gender': {'Fem'}, 'Number': {'Sing'}}, DEPREL:amod and its head is token 22\n",
      "Token no. 24 has form , UPOS: PUNCT, FEATS: {}, DEPREL:punct and its head is token 27\n",
      "Token no. 25 has form e UPOS: CCONJ, FEATS: {}, DEPREL:cc and its head is token 27\n",
      "Token no. 26 has form insieme UPOS: ADV, FEATS: {}, DEPREL:advmod and its head is token 27\n",
      "Token no. 27 has form risalivamo UPOS: VERB, FEATS: {'Mood': {'Ind'}, 'Number': {'Plur'}, 'Person': {'1'}, 'Tense': {'Imp'}, 'VerbForm': {'Fin'}}, DEPREL:conj and its head is token 19\n",
      "Token no. 28 has form il UPOS: DET, FEATS: {'Definite': {'Def'}, 'Gender': {'Masc'}, 'Number': {'Sing'}, 'PronType': {'Art'}}, DEPREL:det and its head is token 29\n",
      "Token no. 29 has form corso UPOS: NOUN, FEATS: {'Gender': {'Masc'}, 'Number': {'Sing'}}, DEPREL:obj and its head is token 27\n",
      "Token no. 30-31 has form del UPOS: None, FEATS: {}, DEPREL:None and its head is token None\n",
      "Token no. 30 has form di UPOS: ADP, FEATS: {}, DEPREL:case and its head is token 32\n",
      "Token no. 31 has form il UPOS: DET, FEATS: {'Definite': {'Def'}, 'Gender': {'Masc'}, 'Number': {'Sing'}, 'PronType': {'Art'}}, DEPREL:det and its head is token 32\n",
      "Token no. 32 has form Danubio UPOS: PROPN, FEATS: {}, DEPREL:nmod and its head is token 29\n",
      "Token no. 33 has form . UPOS: PUNCT, FEATS: {}, DEPREL:punct and its head is token 1\n",
      "Token no. 1 has form In UPOS: ADP, FEATS: {}, DEPREL:case and its head is token 3\n",
      "Token no. 2 has form un UPOS: DET, FEATS: {'Definite': {'Ind'}, 'Gender': {'Masc'}, 'Number': {'Sing'}, 'PronType': {'Art'}}, DEPREL:det and its head is token 3\n",
      "Token no. 3 has form clima UPOS: NOUN, FEATS: {'Gender': {'Masc'}, 'Number': {'Sing'}}, DEPREL:obl and its head is token 8\n",
      "Token no. 4 has form mentale UPOS: ADJ, FEATS: {'Number': {'Sing'}}, DEPREL:amod and its head is token 3\n",
      "Token no. 5 has form di UPOS: ADP, FEATS: {}, DEPREL:case and its head is token 7\n",
      "Token no. 6 has form grande UPOS: ADJ, FEATS: {'Number': {'Sing'}}, DEPREL:amod and its head is token 7\n",
      "Token no. 7 has form eccitazione UPOS: NOUN, FEATS: {'Gender': {'Fem'}, 'Number': {'Sing'}}, DEPREL:nmod and its head is token 3\n",
      "Token no. 8 has form leggevo UPOS: VERB, FEATS: {'Mood': {'Ind'}, 'Number': {'Sing'}, 'Person': {'1'}, 'Tense': {'Imp'}, 'VerbForm': {'Fin'}}, DEPREL:root and its head is token 0\n",
      "Token no. 9 has form , UPOS: PUNCT, FEATS: {}, DEPREL:punct and its head is token 8\n",
      "Token no. 10 has form affascinato UPOS: VERB, FEATS: {'Gender': {'Masc'}, 'Number': {'Sing'}, 'Tense': {'Past'}, 'VerbForm': {'Part'}}, DEPREL:conj and its head is token 8\n",
      "Token no. 11 has form , UPOS: PUNCT, FEATS: {}, DEPREL:punct and its head is token 8\n",
      "Token no. 12 has form la UPOS: DET, FEATS: {'Definite': {'Def'}, 'Gender': {'Fem'}, 'Number': {'Sing'}, 'PronType': {'Art'}}, DEPREL:det and its head is token 14\n",
      "Token no. 13 has form terribile UPOS: ADJ, FEATS: {'Number': {'Sing'}}, DEPREL:amod and its head is token 14\n",
      "Token no. 14 has form storia UPOS: NOUN, FEATS: {'Gender': {'Fem'}, 'Number': {'Sing'}}, DEPREL:obj and its head is token 8\n",
      "Token no. 15 has form di UPOS: ADP, FEATS: {}, DEPREL:case and its head is token 16\n",
      "Token no. 16 has form Adso UPOS: PROPN, FEATS: {}, DEPREL:nmod and its head is token 14\n",
      "Token no. 17 has form da UPOS: ADP, FEATS: {}, DEPREL:case and its head is token 18\n",
      "Token no. 18 has form Melk UPOS: PROPN, FEATS: {}, DEPREL:nmod and its head is token 14\n",
      "Token no. 19 has form , UPOS: PUNCT, FEATS: {}, DEPREL:punct and its head is token 24\n",
      "Token no. 20 has form e UPOS: CCONJ, FEATS: {}, DEPREL:cc and its head is token 24\n",
      "Token no. 21 has form tanto UPOS: ADV, FEATS: {}, DEPREL:advmod and its head is token 24\n",
      "Token no. 22 has form me UPOS: PRON, FEATS: {'Clitic': {'Yes'}, 'Number': {'Sing'}, 'Person': {'1'}, 'PronType': {'Prs'}}, DEPREL:iobj and its head is token 24\n",
      "Token no. 23 has form ne UPOS: PRON, FEATS: {'Clitic': {'Yes'}, 'PronType': {'Prs'}}, DEPREL:iobj and its head is token 24\n",
      "Token no. 24 has form lasciai UPOS: VERB, FEATS: {'Mood': {'Ind'}, 'Number': {'Sing'}, 'Person': {'1'}, 'Tense': {'Past'}, 'VerbForm': {'Fin'}}, DEPREL:conj and its head is token 8\n",
      "Token no. 25 has form assorbire UPOS: VERB, FEATS: {'VerbForm': {'Inf'}}, DEPREL:ccomp and its head is token 24\n",
      "Token no. 26 has form che UPOS: SCONJ, FEATS: {}, DEPREL:mark and its head is token 31\n",
      "Token no. 27 has form quasi UPOS: ADV, FEATS: {}, DEPREL:advmod and its head is token 29\n",
      "Token no. 28 has form di UPOS: ADP, FEATS: {}, DEPREL:case and its head is token 29\n",
      "Token no. 29 has form getto UPOS: NOUN, FEATS: {'Gender': {'Masc'}, 'Number': {'Sing'}}, DEPREL:obl and its head is token 31\n",
      "Token no. 30 has form ne UPOS: PRON, FEATS: {'Clitic': {'Yes'}, 'PronType': {'Prs'}}, DEPREL:iobj and its head is token 31\n",
      "Token no. 31 has form stesi UPOS: VERB, FEATS: {'Mood': {'Ind'}, 'Number': {'Plur'}, 'Person': {'3'}, 'Tense': {'Imp'}, 'VerbForm': {'Fin'}}, DEPREL:ccomp and its head is token 25\n",
      "Token no. 32 has form una UPOS: DET, FEATS: {'Definite': {'Ind'}, 'Gender': {'Fem'}, 'Number': {'Sing'}, 'PronType': {'Art'}}, DEPREL:det and its head is token 33\n",
      "Token no. 33 has form traduzione UPOS: NOUN, FEATS: {'Gender': {'Fem'}, 'Number': {'Sing'}}, DEPREL:obj and its head is token 31\n",
      "Token no. 34 has form , UPOS: PUNCT, FEATS: {}, DEPREL:punct and its head is token 31\n",
      "Token no. 35 has form su UPOS: ADP, FEATS: {}, DEPREL:case and its head is token 38\n",
      "Token no. 36 has form alcuni UPOS: DET, FEATS: {'Gender': {'Masc'}, 'Number': {'Plur'}, 'PronType': {'Ind'}}, DEPREL:det and its head is token 38\n",
      "Token no. 37 has form grandi UPOS: ADJ, FEATS: {'Number': {'Plur'}}, DEPREL:amod and its head is token 38\n",
      "Token no. 38 has form quaderni UPOS: NOUN, FEATS: {'Gender': {'Masc'}, 'Number': {'Plur'}}, DEPREL:obl and its head is token 31\n",
      "Token no. 39-40 has form della UPOS: None, FEATS: {}, DEPREL:None and its head is token None\n",
      "Token no. 39 has form di UPOS: ADP, FEATS: {}, DEPREL:case and its head is token 41\n",
      "Token no. 40 has form la UPOS: DET, FEATS: {'Definite': {'Def'}, 'Gender': {'Fem'}, 'Number': {'Sing'}, 'PronType': {'Art'}}, DEPREL:det and its head is token 41\n",
      "Token no. 41 has form Papéterie UPOS: PROPN, FEATS: {}, DEPREL:nmod and its head is token 38\n",
      "Token no. 42 has form Joseph UPOS: PROPN, FEATS: {}, DEPREL:flat:name and its head is token 41\n",
      "Token no. 43 has form Gibert UPOS: PROPN, FEATS: {}, DEPREL:flat:name and its head is token 42\n",
      "Token no. 44 has form , UPOS: PUNCT, FEATS: {}, DEPREL:punct and its head is token 41\n",
      "Token no. 45 has form su UPOS: ADP, FEATS: {}, DEPREL:case and its head is token 46\n",
      "Token no. 46 has form cui UPOS: PRON, FEATS: {'PronType': {'Rel'}}, DEPREL:obl and its head is token 49\n",
      "Token no. 47 has form è UPOS: AUX, FEATS: {'Mood': {'Ind'}, 'Number': {'Sing'}, 'Person': {'3'}, 'Tense': {'Pres'}, 'VerbForm': {'Fin'}}, DEPREL:cop and its head is token 49\n",
      "Token no. 48 has form tanto UPOS: ADV, FEATS: {}, DEPREL:advmod and its head is token 49\n",
      "Token no. 49 has form piacevole UPOS: ADJ, FEATS: {'Number': {'Sing'}}, DEPREL:acl:relcl and its head is token 41\n",
      "Token no. 50 has form scrivere UPOS: VERB, FEATS: {'VerbForm': {'Inf'}}, DEPREL:csubj and its head is token 49\n",
      "Token no. 51 has form se UPOS: SCONJ, FEATS: {}, DEPREL:mark and its head is token 55\n",
      "Token no. 52 has form la UPOS: DET, FEATS: {'Definite': {'Def'}, 'Gender': {'Fem'}, 'Number': {'Sing'}, 'PronType': {'Art'}}, DEPREL:det and its head is token 53\n",
      "Token no. 53 has form penna UPOS: NOUN, FEATS: {'Gender': {'Fem'}, 'Number': {'Sing'}}, DEPREL:nsubj and its head is token 55\n",
      "Token no. 54 has form è UPOS: AUX, FEATS: {'Mood': {'Ind'}, 'Number': {'Sing'}, 'Person': {'3'}, 'Tense': {'Pres'}, 'VerbForm': {'Fin'}}, DEPREL:cop and its head is token 55\n",
      "Token no. 55 has form morbida UPOS: ADJ, FEATS: {'Gender': {'Fem'}, 'Number': {'Sing'}}, DEPREL:ccomp and its head is token 50\n",
      "Token no. 56 has form . UPOS: PUNCT, FEATS: {}, DEPREL:punct and its head is token 8\n",
      "Token no. 1 has form E UPOS: CCONJ, FEATS: {}, DEPREL:cc and its head is token 4\n",
      "Token no. 2 has form così UPOS: ADV, FEATS: {}, DEPREL:advmod and its head is token 4\n",
      "Token no. 3 has form facendo UPOS: VERB, FEATS: {'VerbForm': {'Ger'}}, DEPREL:advcl and its head is token 4\n",
      "Token no. 4 has form arrivammo UPOS: VERB, FEATS: {'Mood': {'Ind'}, 'Number': {'Plur'}, 'Person': {'1'}, 'Tense': {'Past'}, 'VerbForm': {'Fin'}}, DEPREL:root and its head is token 0\n",
      "Token no. 5-6 has form nei UPOS: None, FEATS: {}, DEPREL:None and its head is token None\n",
      "Token no. 5 has form in UPOS: ADP, FEATS: {}, DEPREL:case and its head is token 7\n",
      "Token no. 6 has form i UPOS: DET, FEATS: {'Definite': {'Def'}, 'Gender': {'Masc'}, 'Number': {'Plur'}, 'PronType': {'Art'}}, DEPREL:det and its head is token 7\n",
      "Token no. 7 has form pressi UPOS: NOUN, FEATS: {'Gender': {'Masc'}, 'Number': {'Plur'}}, DEPREL:obl and its head is token 4\n",
      "Token no. 8 has form di UPOS: ADP, FEATS: {}, DEPREL:case and its head is token 9\n",
      "Token no. 9 has form Melk UPOS: PROPN, FEATS: {}, DEPREL:nmod and its head is token 7\n",
      "Token no. 10 has form , UPOS: PUNCT, FEATS: {}, DEPREL:punct and its head is token 9\n",
      "Token no. 11 has form dove UPOS: ADV, FEATS: {}, DEPREL:advmod and its head is token 24\n",
      "Token no. 12 has form ancora UPOS: ADV, FEATS: {}, DEPREL:advmod and its head is token 24\n",
      "Token no. 13 has form , UPOS: PUNCT, FEATS: {}, DEPREL:punct and its head is token 24\n",
      "Token no. 14 has form a UPOS: ADP, FEATS: {}, DEPREL:case and its head is token 15\n",
      "Token no. 15 has form picco UPOS: NOUN, FEATS: {'Gender': {'Masc'}, 'Number': {'Sing'}}, DEPREL:obl and its head is token 24\n",
      "Token no. 16 has form su UPOS: ADP, FEATS: {}, DEPREL:case and its head is token 18\n",
      "Token no. 17 has form un' UPOS: DET, FEATS: {'Definite': {'Ind'}, 'Gender': {'Fem'}, 'Number': {'Sing'}, 'PronType': {'Art'}}, DEPREL:det and its head is token 18\n",
      "Token no. 18 has form ansa UPOS: NOUN, FEATS: {'Gender': {'Fem'}, 'Number': {'Sing'}}, DEPREL:nmod and its head is token 15\n",
      "Token no. 19-20 has form del UPOS: None, FEATS: {}, DEPREL:None and its head is token None\n",
      "Token no. 19 has form di UPOS: ADP, FEATS: {}, DEPREL:case and its head is token 21\n",
      "Token no. 20 has form il UPOS: DET, FEATS: {'Definite': {'Def'}, 'Gender': {'Masc'}, 'Number': {'Sing'}, 'PronType': {'Art'}}, DEPREL:det and its head is token 21\n",
      "Token no. 21 has form fiume UPOS: NOUN, FEATS: {'Gender': {'Masc'}, 'Number': {'Sing'}}, DEPREL:nmod and its head is token 18\n",
      "Token no. 22 has form , UPOS: PUNCT, FEATS: {}, DEPREL:punct and its head is token 15\n",
      "Token no. 23 has form si UPOS: PRON, FEATS: {'Clitic': {'Yes'}, 'Person': {'3'}, 'PronType': {'Prs'}}, DEPREL:expl and its head is token 24\n",
      "Token no. 24 has form erge UPOS: VERB, FEATS: {'Mood': {'Ind'}, 'Number': {'Sing'}, 'Person': {'3'}, 'Tense': {'Pres'}, 'VerbForm': {'Fin'}}, DEPREL:acl:relcl and its head is token 9\n",
      "Token no. 25 has form il UPOS: DET, FEATS: {'Definite': {'Def'}, 'Gender': {'Masc'}, 'Number': {'Sing'}, 'PronType': {'Art'}}, DEPREL:det and its head is token 27\n",
      "Token no. 26 has form bellissimo UPOS: ADJ, FEATS: {'Gender': {'Masc'}, 'Number': {'Sing'}}, DEPREL:amod and its head is token 27\n",
      "Token no. 27 has form Stift UPOS: PROPN, FEATS: {}, DEPREL:nsubj and its head is token 24\n",
      "Token no. 28 has form più UPOS: ADV, FEATS: {}, DEPREL:advmod and its head is token 29\n",
      "Token no. 29 has form volte UPOS: NOUN, FEATS: {'Gender': {'Fem'}, 'Number': {'Plur'}}, DEPREL:obl and its head is token 30\n",
      "Token no. 30 has form restaurato UPOS: VERB, FEATS: {'Gender': {'Masc'}, 'Number': {'Sing'}, 'Tense': {'Past'}, 'VerbForm': {'Part'}}, DEPREL:acl and its head is token 27\n",
      "Token no. 31-32 has form nei UPOS: None, FEATS: {}, DEPREL:None and its head is token None\n",
      "Token no. 31 has form in UPOS: ADP, FEATS: {}, DEPREL:case and its head is token 33\n",
      "Token no. 32 has form i UPOS: DET, FEATS: {'Definite': {'Def'}, 'Gender': {'Masc'}, 'Number': {'Plur'}, 'PronType': {'Art'}}, DEPREL:det and its head is token 33\n",
      "Token no. 33 has form secoli UPOS: NOUN, FEATS: {'Gender': {'Masc'}, 'Number': {'Plur'}}, DEPREL:obl and its head is token 30\n",
      "Token no. 34 has form . UPOS: PUNCT, FEATS: {}, DEPREL:punct and its head is token 4\n",
      "Token no. 1 has form Come UPOS: ADP, FEATS: {}, DEPREL:case and its head is token 3\n",
      "Token no. 2 has form il UPOS: DET, FEATS: {'Definite': {'Def'}, 'Gender': {'Masc'}, 'Number': {'Sing'}, 'PronType': {'Art'}}, DEPREL:det and its head is token 3\n",
      "Token no. 3 has form lettore UPOS: NOUN, FEATS: {'Gender': {'Masc'}, 'Number': {'Sing'}}, DEPREL:nsubj and its head is token 5\n",
      "Token no. 4 has form avrà UPOS: AUX, FEATS: {'Mood': {'Ind'}, 'Number': {'Sing'}, 'Person': {'3'}, 'Tense': {'Fut'}, 'VerbForm': {'Fin'}}, DEPREL:aux and its head is token 5\n",
      "Token no. 5 has form immaginato UPOS: VERB, FEATS: {'Gender': {'Masc'}, 'Number': {'Sing'}, 'Tense': {'Past'}, 'VerbForm': {'Part'}}, DEPREL:advcl and its head is token 14\n",
      "Token no. 6 has form , UPOS: PUNCT, FEATS: {}, DEPREL:punct and its head is token 5\n",
      "Token no. 7-8 has form nella UPOS: None, FEATS: {}, DEPREL:None and its head is token None\n",
      "Token no. 7 has form in UPOS: ADP, FEATS: {}, DEPREL:case and its head is token 9\n",
      "Token no. 8 has form la UPOS: DET, FEATS: {'Definite': {'Def'}, 'Gender': {'Fem'}, 'Number': {'Sing'}, 'PronType': {'Art'}}, DEPREL:det and its head is token 9\n",
      "Token no. 9 has form biblioteca UPOS: NOUN, FEATS: {'Gender': {'Fem'}, 'Number': {'Sing'}}, DEPREL:obl and its head is token 14\n",
      "Token no. 10-11 has form del UPOS: None, FEATS: {}, DEPREL:None and its head is token None\n",
      "Token no. 10 has form di UPOS: ADP, FEATS: {}, DEPREL:case and its head is token 12\n",
      "Token no. 11 has form il UPOS: DET, FEATS: {'Definite': {'Def'}, 'Gender': {'Masc'}, 'Number': {'Sing'}, 'PronType': {'Art'}}, DEPREL:det and its head is token 12\n",
      "Token no. 12 has form monastero UPOS: NOUN, FEATS: {'Gender': {'Masc'}, 'Number': {'Sing'}}, DEPREL:nmod and its head is token 9\n",
      "Token no. 13 has form non UPOS: ADV, FEATS: {'PronType': {'Neg'}}, DEPREL:advmod and its head is token 14\n",
      "Token no. 14 has form trovai UPOS: VERB, FEATS: {'Mood': {'Ind'}, 'Number': {'Sing'}, 'Person': {'1'}, 'Tense': {'Past'}, 'VerbForm': {'Fin'}}, DEPREL:root and its head is token 0\n",
      "Token no. 15 has form traccia UPOS: NOUN, FEATS: {'Gender': {'Fem'}, 'Number': {'Sing'}}, DEPREL:obj and its head is token 14\n",
      "Token no. 16-17 has form del UPOS: None, FEATS: {}, DEPREL:None and its head is token None\n",
      "Token no. 16 has form di UPOS: ADP, FEATS: {}, DEPREL:case and its head is token 18\n",
      "Token no. 17 has form il UPOS: DET, FEATS: {'Definite': {'Def'}, 'Gender': {'Masc'}, 'Number': {'Sing'}, 'PronType': {'Art'}}, DEPREL:det and its head is token 18\n",
      "Token no. 18 has form manoscritto UPOS: NOUN, FEATS: {'Gender': {'Masc'}, 'Number': {'Sing'}}, DEPREL:nmod and its head is token 15\n",
      "Token no. 19 has form di UPOS: ADP, FEATS: {}, DEPREL:case and its head is token 20\n",
      "Token no. 20 has form Adso UPOS: PROPN, FEATS: {}, DEPREL:nmod and its head is token 18\n",
      "Token no. 21 has form . UPOS: PUNCT, FEATS: {}, DEPREL:punct and its head is token 14\n",
      "Token no. 1 has form Prima UPOS: ADV, FEATS: {}, DEPREL:mark and its head is token 3\n",
      "Token no. 2 has form di UPOS: ADP, FEATS: {}, DEPREL:fixed and its head is token 1\n",
      "Token no. 3 has form arrivare UPOS: VERB, FEATS: {'VerbForm': {'Inf'}}, DEPREL:advcl and its head is token 28\n",
      "Token no. 4 has form a UPOS: ADP, FEATS: {}, DEPREL:case and its head is token 5\n",
      "Token no. 5 has form Salisburgo UPOS: PROPN, FEATS: {}, DEPREL:obl and its head is token 3\n",
      "Token no. 6 has form , UPOS: PUNCT, FEATS: {}, DEPREL:punct and its head is token 3\n",
      "Token no. 7 has form una UPOS: DET, FEATS: {'Definite': {'Ind'}, 'Gender': {'Fem'}, 'Number': {'Sing'}, 'PronType': {'Art'}}, DEPREL:det and its head is token 9\n",
      "Token no. 8 has form tragica UPOS: ADJ, FEATS: {'Gender': {'Fem'}, 'Number': {'Sing'}}, DEPREL:amod and its head is token 9\n",
      "Token no. 9 has form notte UPOS: NOUN, FEATS: {'Gender': {'Fem'}, 'Number': {'Sing'}}, DEPREL:obl and its head is token 28\n",
      "Token no. 10 has form in UPOS: ADP, FEATS: {}, DEPREL:case and its head is token 13\n",
      "Token no. 11 has form un UPOS: DET, FEATS: {'Definite': {'Ind'}, 'Gender': {'Masc'}, 'Number': {'Sing'}, 'PronType': {'Art'}}, DEPREL:det and its head is token 13\n",
      "Token no. 12 has form piccolo UPOS: ADJ, FEATS: {'Gender': {'Masc'}, 'Number': {'Sing'}}, DEPREL:amod and its head is token 13\n",
      "Token no. 13 has form albergo UPOS: NOUN, FEATS: {'Gender': {'Masc'}, 'Number': {'Sing'}}, DEPREL:nmod and its head is token 9\n",
      "Token no. 14-15 has form sulle UPOS: None, FEATS: {}, DEPREL:None and its head is token None\n",
      "Token no. 14 has form su UPOS: ADP, FEATS: {}, DEPREL:case and its head is token 16\n",
      "Token no. 15 has form le UPOS: DET, FEATS: {'Definite': {'Def'}, 'Gender': {'Fem'}, 'Number': {'Plur'}, 'PronType': {'Art'}}, DEPREL:det and its head is token 16\n",
      "Token no. 16 has form rive UPOS: NOUN, FEATS: {'Gender': {'Fem'}, 'Number': {'Plur'}}, DEPREL:nmod and its head is token 13\n",
      "Token no. 17-18 has form del UPOS: None, FEATS: {}, DEPREL:None and its head is token None\n",
      "Token no. 17 has form di UPOS: ADP, FEATS: {}, DEPREL:case and its head is token 19\n",
      "Token no. 18 has form il UPOS: DET, FEATS: {'Definite': {'Def'}, 'Gender': {'Masc'}, 'Number': {'Sing'}, 'PronType': {'Art'}}, DEPREL:det and its head is token 19\n",
      "Token no. 19 has form Mondsee UPOS: PROPN, FEATS: {}, DEPREL:nmod and its head is token 16\n",
      "Token no. 20 has form , UPOS: PUNCT, FEATS: {}, DEPREL:punct and its head is token 3\n",
      "Token no. 21 has form il UPOS: DET, FEATS: {'Definite': {'Def'}, 'Gender': {'Masc'}, 'Number': {'Sing'}, 'PronType': {'Art'}}, DEPREL:det and its head is token 23\n",
      "Token no. 22 has form mio UPOS: DET, FEATS: {'Gender': {'Masc'}, 'Number': {'Sing'}, 'Poss': {'Yes'}, 'PronType': {'Prs'}}, DEPREL:det:poss and its head is token 23\n",
      "Token no. 23 has form sodalizio UPOS: NOUN, FEATS: {'Gender': {'Masc'}, 'Number': {'Sing'}}, DEPREL:nsubj and its head is token 28\n",
      "Token no. 24 has form di UPOS: ADP, FEATS: {}, DEPREL:case and its head is token 25\n",
      "Token no. 25 has form viaggio UPOS: NOUN, FEATS: {'Gender': {'Masc'}, 'Number': {'Sing'}}, DEPREL:nmod and its head is token 23\n",
      "Token no. 26 has form bruscamente UPOS: ADV, FEATS: {}, DEPREL:advmod and its head is token 28\n",
      "Token no. 27 has form si UPOS: PRON, FEATS: {'Clitic': {'Yes'}, 'Person': {'3'}, 'PronType': {'Prs'}}, DEPREL:expl and its head is token 28\n",
      "Token no. 28 has form interruppe UPOS: VERB, FEATS: {'Mood': {'Ind'}, 'Number': {'Sing'}, 'Person': {'3'}, 'Tense': {'Past'}, 'VerbForm': {'Fin'}}, DEPREL:root and its head is token 0\n",
      "Token no. 29 has form e UPOS: CCONJ, FEATS: {}, DEPREL:cc and its head is token 35\n",
      "Token no. 30 has form la UPOS: DET, FEATS: {'Definite': {'Def'}, 'Gender': {'Fem'}, 'Number': {'Sing'}, 'PronType': {'Art'}}, DEPREL:det and its head is token 31\n",
      "Token no. 31 has form persona UPOS: NOUN, FEATS: {'Gender': {'Fem'}, 'Number': {'Sing'}}, DEPREL:nsubj and its head is token 35\n",
      "Token no. 32 has form con UPOS: ADP, FEATS: {}, DEPREL:case and its head is token 33\n",
      "Token no. 33 has form cui UPOS: PRON, FEATS: {'PronType': {'Rel'}}, DEPREL:obl and its head is token 34\n",
      "Token no. 34 has form viaggiavo UPOS: VERB, FEATS: {'Mood': {'Ind'}, 'Number': {'Sing'}, 'Person': {'1'}, 'Tense': {'Imp'}, 'VerbForm': {'Fin'}}, DEPREL:acl:relcl and its head is token 31\n",
      "Token no. 35 has form scomparve UPOS: VERB, FEATS: {'Mood': {'Ind'}, 'Number': {'Sing'}, 'Person': {'3'}, 'Tense': {'Past'}, 'VerbForm': {'Fin'}}, DEPREL:conj and its head is token 28\n",
      "Token no. 36 has form portando UPOS: VERB, FEATS: {'VerbForm': {'Ger'}}, DEPREL:advcl and its head is token 28\n",
      "Token no. 37 has form seco UPOS: ADV, FEATS: {}, DEPREL:advmod and its head is token 36\n",
      "Token no. 38 has form il UPOS: DET, FEATS: {'Definite': {'Def'}, 'Gender': {'Masc'}, 'Number': {'Sing'}, 'PronType': {'Art'}}, DEPREL:det and its head is token 39\n",
      "Token no. 39 has form libro UPOS: NOUN, FEATS: {'Gender': {'Masc'}, 'Number': {'Sing'}}, DEPREL:obj and its head is token 36\n",
      "Token no. 40-41 has form dell' UPOS: None, FEATS: {}, DEPREL:None and its head is token None\n",
      "Token no. 40 has form di UPOS: ADP, FEATS: {}, DEPREL:case and its head is token 42\n",
      "Token no. 41 has form l' UPOS: DET, FEATS: {'Definite': {'Def'}, 'Number': {'Sing'}, 'PronType': {'Art'}}, DEPREL:det and its head is token 42\n",
      "Token no. 42 has form abate UPOS: NOUN, FEATS: {'Gender': {'Masc'}, 'Number': {'Sing'}}, DEPREL:nmod and its head is token 39\n",
      "Token no. 43 has form Vallet UPOS: PROPN, FEATS: {}, DEPREL:nmod and its head is token 42\n",
      "Token no. 44 has form , UPOS: PUNCT, FEATS: {}, DEPREL:punct and its head is token 39\n",
      "Token no. 45 has form non UPOS: ADV, FEATS: {'PronType': {'Neg'}}, DEPREL:advmod and its head is token 47\n",
      "Token no. 46 has form per UPOS: ADP, FEATS: {}, DEPREL:case and its head is token 47\n",
      "Token no. 47 has form malizia UPOS: NOUN, FEATS: {'Gender': {'Fem'}, 'Number': {'Sing'}}, DEPREL:nmod and its head is token 39\n",
      "Token no. 48 has form , UPOS: PUNCT, FEATS: {}, DEPREL:punct and its head is token 51\n",
      "Token no. 49 has form ma UPOS: CCONJ, FEATS: {}, DEPREL:cc and its head is token 51\n",
      "Token no. 50 has form a UPOS: ADP, FEATS: {}, DEPREL:case and its head is token 51\n",
      "Token no. 51 has form causa UPOS: NOUN, FEATS: {'Gender': {'Fem'}, 'Number': {'Sing'}}, DEPREL:obl and its head is token 36\n",
      "Token no. 52-53 has form del UPOS: None, FEATS: {}, DEPREL:None and its head is token None\n",
      "Token no. 52 has form di UPOS: ADP, FEATS: {}, DEPREL:case and its head is token 54\n",
      "Token no. 53 has form il UPOS: DET, FEATS: {'Definite': {'Def'}, 'Gender': {'Masc'}, 'Number': {'Sing'}, 'PronType': {'Art'}}, DEPREL:det and its head is token 54\n",
      "Token no. 54 has form modo UPOS: NOUN, FEATS: {'Gender': {'Masc'}, 'Number': {'Sing'}}, DEPREL:nmod and its head is token 51\n",
      "Token no. 55 has form disordinato UPOS: ADJ, FEATS: {'Gender': {'Masc'}, 'Number': {'Sing'}}, DEPREL:amod and its head is token 54\n",
      "Token no. 56 has form e UPOS: CCONJ, FEATS: {}, DEPREL:cc and its head is token 57\n",
      "Token no. 57 has form abrupto UPOS: ADJ, FEATS: {'Gender': {'Masc'}, 'Number': {'Sing'}}, DEPREL:conj and its head is token 55\n",
      "Token no. 58 has form con UPOS: ADP, FEATS: {}, DEPREL:case and its head is token 59\n",
      "Token no. 59 has form cui UPOS: PRON, FEATS: {'PronType': {'Rel'}}, DEPREL:obl and its head is token 61\n",
      "Token no. 60 has form aveva UPOS: AUX, FEATS: {'Mood': {'Ind'}, 'Number': {'Sing'}, 'Person': {'3'}, 'Tense': {'Imp'}, 'VerbForm': {'Fin'}}, DEPREL:aux and its head is token 61\n",
      "Token no. 61 has form avuto UPOS: VERB, FEATS: {'Gender': {'Masc'}, 'Number': {'Sing'}, 'Tense': {'Past'}, 'VerbForm': {'Part'}}, DEPREL:acl:relcl and its head is token 54\n",
      "Token no. 62 has form fine UPOS: NOUN, FEATS: {'Gender': {'Fem'}, 'Number': {'Sing'}}, DEPREL:obj and its head is token 61\n",
      "Token no. 63 has form il UPOS: DET, FEATS: {'Definite': {'Def'}, 'Gender': {'Masc'}, 'Number': {'Sing'}, 'PronType': {'Art'}}, DEPREL:det and its head is token 65\n",
      "Token no. 64 has form nostro UPOS: DET, FEATS: {'Gender': {'Masc'}, 'Number': {'Sing'}, 'Poss': {'Yes'}, 'PronType': {'Prs'}}, DEPREL:det:poss and its head is token 65\n",
      "Token no. 65 has form rapporto UPOS: NOUN, FEATS: {'Gender': {'Masc'}, 'Number': {'Sing'}}, DEPREL:obj and its head is token 61\n",
      "Token no. 66 has form . UPOS: PUNCT, FEATS: {}, DEPREL:punct and its head is token 28\n",
      "Token no. 1 has form Mi UPOS: PRON, FEATS: {'Clitic': {'Yes'}, 'Number': {'Sing'}, 'Person': {'1'}, 'PronType': {'Prs'}}, DEPREL:iobj and its head is token 2\n",
      "Token no. 2 has form rimase UPOS: VERB, FEATS: {'Mood': {'Ind'}, 'Number': {'Sing'}, 'Person': {'3'}, 'Tense': {'Past'}, 'VerbForm': {'Fin'}}, DEPREL:root and its head is token 0\n",
      "Token no. 3 has form così UPOS: ADV, FEATS: {}, DEPREL:advmod and its head is token 2\n",
      "Token no. 4 has form una UPOS: DET, FEATS: {'Definite': {'Ind'}, 'Gender': {'Fem'}, 'Number': {'Sing'}, 'PronType': {'Art'}}, DEPREL:det and its head is token 5\n",
      "Token no. 5 has form serie UPOS: NOUN, FEATS: {'Gender': {'Fem'}}, DEPREL:nsubj and its head is token 2\n",
      "Token no. 6 has form di UPOS: ADP, FEATS: {}, DEPREL:case and its head is token 7\n",
      "Token no. 7 has form quaderni UPOS: NOUN, FEATS: {'Gender': {'Masc'}, 'Number': {'Plur'}}, DEPREL:nmod and its head is token 5\n",
      "Token no. 8 has form manoscritti UPOS: ADJ, FEATS: {'Gender': {'Masc'}, 'Number': {'Plur'}}, DEPREL:amod and its head is token 7\n",
      "Token no. 9 has form di UPOS: ADP, FEATS: {}, DEPREL:case and its head is token 11\n",
      "Token no. 10 has form mio UPOS: DET, FEATS: {'Gender': {'Masc'}, 'Number': {'Sing'}, 'Poss': {'Yes'}, 'PronType': {'Prs'}}, DEPREL:det:poss and its head is token 11\n",
      "Token no. 11 has form pugno UPOS: NOUN, FEATS: {'Gender': {'Masc'}, 'Number': {'Sing'}}, DEPREL:nmod and its head is token 7\n",
      "Token no. 12 has form , UPOS: PUNCT, FEATS: {}, DEPREL:punct and its head is token 16\n",
      "Token no. 13 has form e UPOS: CCONJ, FEATS: {}, DEPREL:cc and its head is token 16\n",
      "Token no. 14 has form un UPOS: DET, FEATS: {'Definite': {'Ind'}, 'Gender': {'Masc'}, 'Number': {'Sing'}, 'PronType': {'Art'}}, DEPREL:det and its head is token 16\n",
      "Token no. 15 has form gran UPOS: ADJ, FEATS: {'Number': {'Sing'}}, DEPREL:amod and its head is token 16\n",
      "Token no. 16 has form vuoto UPOS: NOUN, FEATS: {'Gender': {'Masc'}, 'Number': {'Sing'}}, DEPREL:conj and its head is token 5\n",
      "Token no. 17-18 has form nel UPOS: None, FEATS: {}, DEPREL:None and its head is token None\n",
      "Token no. 17 has form in UPOS: ADP, FEATS: {}, DEPREL:case and its head is token 19\n",
      "Token no. 18 has form il UPOS: DET, FEATS: {'Definite': {'Def'}, 'Gender': {'Masc'}, 'Number': {'Sing'}, 'PronType': {'Art'}}, DEPREL:det and its head is token 19\n",
      "Token no. 19 has form cuore UPOS: NOUN, FEATS: {'Gender': {'Masc'}, 'Number': {'Sing'}}, DEPREL:nmod and its head is token 16\n",
      "Token no. 20 has form . UPOS: PUNCT, FEATS: {}, DEPREL:punct and its head is token 2\n"
     ]
    }
   ],
   "source": [
    "for sentence in en_nomerosa:\n",
    "    for token in sentence:\n",
    "        # Print tokens\n",
    "        print(\"Token no. \"+str(token.id)+\" has form \"+str(token.form)+\" UPOS: \"+str(token.upos)+\", FEATS: \"+str(token.feats)+\", DEPREL:\"+str(token.deprel)+\" and its head is token \"+str(token.head))"
   ]
  },
  {
   "cell_type": "markdown",
   "id": "e6571bb5-9305-4b75-80f9-9daae897f26a",
   "metadata": {},
   "source": [
    "We can easily traverse the CoNNL-U file and collect simple statistics like 'How many nouns are there in the corpus?' or more complex ones like 'How many adjectives do behave as direct objects?'"
   ]
  },
  {
   "cell_type": "code",
   "execution_count": 4,
   "id": "e7d01ebf-6b82-4054-b7f6-0be8d194d4f0",
   "metadata": {
    "slideshow": {
     "slide_type": "fragment"
    }
   },
   "outputs": [
    {
     "name": "stdout",
     "output_type": "stream",
     "text": [
      "There are 63 nouns. There are also 1 adjectives behaving as direct objects.\n"
     ]
    }
   ],
   "source": [
    "noun = 0\n",
    "adj_subj = 0\n",
    "for sentence in en_nomerosa:\n",
    "        for token in sentence:\n",
    "            if token.upos == 'NOUN':\n",
    "                noun += 1\n",
    "            if token.upos == \"ADJ\" and token.deprel == \"obj\":\n",
    "                adj_subj += 1\n",
    "print(\"There are \"+str(noun)+\" nouns.\"+\" There are also \"+str(adj_subj)+\" adjectives behaving as direct objects.\")"
   ]
  },
  {
   "cell_type": "markdown",
   "id": "4dcd5904-db91-473e-8304-a3b5a73379c6",
   "metadata": {
    "slideshow": {
     "slide_type": "fragment"
    }
   },
   "source": [
    "### Tree walk\n",
    "Unlike `pyconll`, the `conllu` library does not have a native method to load file, so you have to use the basic `open()` function:"
   ]
  },
  {
   "cell_type": "code",
   "execution_count": 14,
   "id": "d37f924e-06aa-431f-90ac-2dcf80ee8b47",
   "metadata": {},
   "outputs": [],
   "source": [
    "from io import open\n",
    "data = open(\"conllu/en_nomerosa.conllu\", \"r\", encoding=\"utf-8\")\n"
   ]
  },
  {
   "cell_type": "markdown",
   "id": "7b8b797f-4318-439d-ad33-fa700ad2c660",
   "metadata": {},
   "source": [
    "The `conllu` library has a method for the linear walk too, which is called `parse()`, but here we are interested in the other method, `parse_tree()`:"
   ]
  },
  {
   "cell_type": "code",
   "execution_count": 15,
   "id": "70c6a0ea-d474-42f5-b44d-90c65acebcf8",
   "metadata": {},
   "outputs": [
    {
     "name": "stdout",
     "output_type": "stream",
     "text": [
      "TokenTree<token={id=17, form=HANDED}, children=[...]>\n",
      "TokenTree<token={id=13, form=claimed}, children=[...]>\n",
      "TokenTree<token={id=15, form=entertained}, children=[...]>\n",
      "TokenTree<token={id=6, form=invaded}, children=[...]>\n",
      "TokenTree<token={id=2, form=managed}, children=[...]>\n",
      "TokenTree<token={id=9, form=read}, children=[...]>\n",
      "TokenTree<token={id=8, form=reached}, children=[...]>\n",
      "TokenTree<token={id=13, form=found}, children=[...]>\n",
      "TokenTree<token={id=5, form=left}, children=[...]>\n",
      "TokenTree<token={id=10, form=decided}, children=[...]>\n"
     ]
    }
   ],
   "source": [
    "import conllu\n",
    "sentences = conllu.parse_tree(data.read())\n",
    "for sentence in sentences:\n",
    "    print(sentence)"
   ]
  },
  {
   "cell_type": "markdown",
   "id": "8be81750-57ac-4ff6-a993-01e02096e92c",
   "metadata": {},
   "source": [
    "We have printed the 10 sentences contained in our files. The form listed for each sentence is the root element, which has dependents, and dependents have dependents too, and so on. To list dependents (children), just use the `.children` attribute. Unlike `pyconll`, the `conllu` library:"
   ]
  },
  {
   "cell_type": "code",
   "execution_count": 19,
   "id": "b2d70f7a-2752-4fdd-9f16-fe9caf7d5927",
   "metadata": {},
   "outputs": [
    {
     "name": "stdout",
     "output_type": "stream",
     "text": [
      "Analyzing sentence 0\n",
      "TokenTree<token={id=2, form=NAME}, children=[...]>\n",
      "TokenTree<token={id=15, form=I}, children=None>\n",
      "TokenTree<token={id=16, form=WAS}, children=None>\n",
      "TokenTree<token={id=19, form=BOOK}, children=[...]>\n",
      "TokenTree<token={id=57, form=.}, children=None>\n",
      "Analyzing sentence 1\n",
      "TokenTree<token={id=1, form=Supplemented}, children=[...]>\n",
      "TokenTree<token={id=12, form=book}, children=[...]>\n",
      "TokenTree<token={id=15, form=reproduce}, children=[...]>\n",
      "TokenTree<token={id=60, form=.}, children=None>\n",
      "Analyzing sentence 2\n",
      "TokenTree<token={id=3, form=discovery}, children=[...]>\n",
      "TokenTree<token={id=16, form=me}, children=None>\n",
      "TokenTree<token={id=21, form=Prague}, children=[...]>\n",
      "TokenTree<token={id=28, form=.}, children=None>\n",
      "Analyzing sentence 3\n",
      "TokenTree<token={id=3, form=later}, children=[...]>\n",
      "TokenTree<token={id=5, form=troops}, children=[...]>\n",
      "TokenTree<token={id=9, form=city}, children=[...]>\n",
      "TokenTree<token={id=10, form=.}, children=None>\n",
      "Analyzing sentence 4\n",
      "TokenTree<token={id=1, form=I}, children=None>\n",
      "TokenTree<token={id=6, form=adventure}, children=[...]>\n",
      "TokenTree<token={id=9, form=reach}, children=[...]>\n",
      "TokenTree<token={id=20, form=journeyed}, children=[...]>\n",
      "TokenTree<token={id=37, form=.}, children=None>\n",
      "Analyzing sentence 5\n",
      "TokenTree<token={id=3, form=state}, children=[...]>\n",
      "TokenTree<token={id=8, form=I}, children=None>\n",
      "TokenTree<token={id=11, form=fascination}, children=[...]>\n",
      "TokenTree<token={id=14, form=story}, children=[...]>\n",
      "TokenTree<token={id=22, form=allowed}, children=[...]>\n",
      "TokenTree<token={id=72, form=.}, children=None>\n",
      "Analyzing sentence 6\n",
      "TokenTree<token={id=1, form=And}, children=None>\n",
      "TokenTree<token={id=5, form=writing}, children=[...]>\n",
      "TokenTree<token={id=7, form=we}, children=None>\n",
      "TokenTree<token={id=10, form=vicinity}, children=[...]>\n",
      "TokenTree<token={id=27, form=stands}, children=[...]>\n",
      "TokenTree<token={id=41, form=.}, children=None>\n",
      "Analyzing sentence 7\n",
      "TokenTree<token={id=6, form=guessed}, children=[...]>\n",
      "TokenTree<token={id=12, form=I}, children=None>\n",
      "TokenTree<token={id=15, form=trace}, children=[...]>\n",
      "TokenTree<token={id=46, form=interrupted}, children=[...]>\n",
      "TokenTree<token={id=82, form=.}, children=None>\n",
      "Analyzing sentence 8\n",
      "TokenTree<token={id=1, form=And}, children=None>\n",
      "TokenTree<token={id=2, form=so}, children=None>\n",
      "TokenTree<token={id=3, form=I}, children=None>\n",
      "TokenTree<token={id=4, form=was}, children=None>\n",
      "TokenTree<token={id=8, form=number}, children=[...]>\n",
      "TokenTree<token={id=23, form=.}, children=None>\n",
      "Analyzing sentence 9\n",
      "TokenTree<token={id=4, form=later}, children=[...]>\n",
      "TokenTree<token={id=7, form=Paris}, children=[...]>\n",
      "TokenTree<token={id=9, form=I}, children=None>\n",
      "TokenTree<token={id=12, form=get}, children=[...]>\n",
      "TokenTree<token={id=19, form=.}, children=None>\n"
     ]
    }
   ],
   "source": [
    "from conllu import parse_tree\n",
    "data = open(\"conllu/en_nomerosa.conllu\", \"r\", encoding=\"utf-8\")\n",
    "sentences = conllu.parse_tree(data.read())\n",
    "for sentence in sentences:\n",
    "    print(\"Analyzing sentence \"+sentence.metadata[\"sent_id\"])\n",
    "    for token in sentence.children:\n",
    "        print(token)"
   ]
  },
  {
   "cell_type": "markdown",
   "id": "2c2be760",
   "metadata": {
    "slideshow": {
     "slide_type": "fragment"
    }
   },
   "source": [
    "## Build a csv file out of the results"
   ]
  },
  {
   "cell_type": "markdown",
   "id": "ac0f5dda",
   "metadata": {
    "slideshow": {
     "slide_type": "fragment"
    }
   },
   "source": [
    "Rather than printing out results on the screen, it is perhaps more useful to store them in a comma-separated file (CSV) and further process it with other software such as R. We would also like to work on all the five CoNNL-U files of our dataset, in order to extract data from different languages. First, create a CSV file to store our data. Then, let's give a name to each column:"
   ]
  },
  {
   "cell_type": "code",
   "execution_count": 5,
   "id": "b98b5d00-a450-44c6-a390-20ad18b545f8",
   "metadata": {
    "slideshow": {
     "slide_type": "fragment"
    }
   },
   "outputs": [
    {
     "data": {
      "text/plain": [
       "48"
      ]
     },
     "execution_count": 5,
     "metadata": {},
     "output_type": "execute_result"
    }
   ],
   "source": [
    "import csv\n",
    "mycsv = open(\"report.csv\", 'a+', newline='',encoding='utf-8')\n",
    "countwriter = csv.writer(mycsv, delimiter=',', quotechar='\"', quoting=csv.QUOTE_ALL)\n",
    "countwriter.writerow(['book','token','sentence_id','upos','features'])"
   ]
  },
  {
   "cell_type": "markdown",
   "id": "ddd3b2b9",
   "metadata": {
    "slideshow": {
     "slide_type": "slide"
    }
   },
   "source": [
    "Let's loop over our five files, loading and extract from each conllu file all instances behaving as subject (or other dependency relations). We will write all instances in a CSV file with their annotation on parts of speech and morphological features:"
   ]
  },
  {
   "cell_type": "code",
   "execution_count": 6,
   "id": "857afa19-03a3-4b90-9aeb-2be445673a96",
   "metadata": {
    "slideshow": {
     "slide_type": "slide"
    }
   },
   "outputs": [],
   "source": [
    "import glob\n",
    "for conllufile in sorted(glob.glob('conllu/*.conllu')):\n",
    "        conllu = pyconll.load_from_file(conllufile)\n",
    "        for sentence in conllu:\n",
    "            for token in sentence:\n",
    "                if token.deprel == \"obj\":\n",
    "                    countwriter.writerow([conllufile,token.form,sentence.id,token.upos,token.feats])"
   ]
  }
 ],
 "metadata": {
  "kernelspec": {
   "display_name": "Python 3 (ipykernel)",
   "language": "python",
   "name": "python3"
  },
  "language_info": {
   "codemirror_mode": {
    "name": "ipython",
    "version": 3
   },
   "file_extension": ".py",
   "mimetype": "text/x-python",
   "name": "python",
   "nbconvert_exporter": "python",
   "pygments_lexer": "ipython3",
   "version": "3.13.1"
  }
 },
 "nbformat": 4,
 "nbformat_minor": 5
}
